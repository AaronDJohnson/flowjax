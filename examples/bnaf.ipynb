{
    "cells": [
        {
            "cell_type": "markdown",
            "metadata": {},
            "source": [
                "### Block neural autoregressive flow\n",
                "\n",
                "Here we show how we can use [block neural autoregressive flows](https://arxiv.org/abs/1904.04676) for (in this case conditional) density estimation.\n",
                "\n",
                "The model is as follows:\n",
                "$$u_1 \\sim \\text{Uniform}(0,5)$$\n",
                "$$u_2 \\sim \\text{Uniform}(0,5)$$\n",
                "\n",
                "$$x_i \\sim \\text{Uniform}(0, u_i), \\quad \\text{for}\\ i\\ \\text{in}\\ 1,2$$\n",
                "\n",
                "We will try to infer the conditional distribution $p(x|u)$ using samples from the model.\n"
            ]
        },
        {
            "cell_type": "code",
            "execution_count": 1,
            "metadata": {},
            "outputs": [],
            "source": [
                "from jax import random\n",
                "import jax.numpy as jnp\n",
                "import numpy as onp\n",
                "from flowjax.flows import block_neural_autoregressive_flow\n",
                "from flowjax.distributions import Normal\n",
                "from flowjax.train_utils import train_flow\n",
                "import matplotlib.pyplot as plt"
            ]
        },
        {
            "cell_type": "code",
            "execution_count": 2,
            "metadata": {},
            "outputs": [
                {
                    "name": "stderr",
                    "output_type": "stream",
                    "text": [
                        "WARNING:absl:No GPU/TPU found, falling back to CPU. (Set TF_CPP_MIN_LOG_LEVEL=0 and rerun for more info.)\n"
                    ]
                }
            ],
            "source": [
                "key, x_key, cond_key = random.split(random.PRNGKey(0), 3)\n",
                "u = random.uniform(cond_key, (10000, 2), minval=0, maxval=5)\n",
                "x = random.uniform(x_key, shape=u.shape, maxval=u)\n",
                "assert jnp.all(x<u)"
            ]
        },
        {
            "cell_type": "code",
            "execution_count": 3,
            "metadata": {},
            "outputs": [
                {
                    "name": "stderr",
                    "output_type": "stream",
                    "text": [
                        "  0%|          | 0/50 [00:00<?, ?it/s]\n"
                    ]
                },
                {
                    "ename": "ValueError",
                    "evalue": "Expected x.shape[-1]==3, got (256, 2).",
                    "output_type": "error",
                    "traceback": [
                        "\u001b[0;31m---------------------------------------------------------------------------\u001b[0m",
                        "\u001b[0;31mValueError\u001b[0m                                Traceback (most recent call last)",
                        "\u001b[1;32m/home/dw16200/Documents/compass/project/flowjax/examples/bnaf.ipynb Cell 4\u001b[0m in \u001b[0;36m<cell line: 9>\u001b[0;34m()\u001b[0m\n\u001b[1;32m      <a href='vscode-notebook-cell:/home/dw16200/Documents/compass/project/flowjax/examples/bnaf.ipynb#X12sZmlsZQ%3D%3D?line=2'>3</a>\u001b[0m flow \u001b[39m=\u001b[39m block_neural_autoregressive_flow(\n\u001b[1;32m      <a href='vscode-notebook-cell:/home/dw16200/Documents/compass/project/flowjax/examples/bnaf.ipynb#X12sZmlsZQ%3D%3D?line=3'>4</a>\u001b[0m     key\u001b[39m=\u001b[39msubkey,\n\u001b[1;32m      <a href='vscode-notebook-cell:/home/dw16200/Documents/compass/project/flowjax/examples/bnaf.ipynb#X12sZmlsZQ%3D%3D?line=4'>5</a>\u001b[0m     base_dist\u001b[39m=\u001b[39mNormal(jnp\u001b[39m.\u001b[39mzeros(\u001b[39m3\u001b[39m), jnp\u001b[39m.\u001b[39mones(\u001b[39m3\u001b[39m)),\n\u001b[1;32m      <a href='vscode-notebook-cell:/home/dw16200/Documents/compass/project/flowjax/examples/bnaf.ipynb#X12sZmlsZQ%3D%3D?line=5'>6</a>\u001b[0m     cond_dim\u001b[39m=\u001b[39mu\u001b[39m.\u001b[39mshape[\u001b[39m1\u001b[39m])\n\u001b[1;32m      <a href='vscode-notebook-cell:/home/dw16200/Documents/compass/project/flowjax/examples/bnaf.ipynb#X12sZmlsZQ%3D%3D?line=7'>8</a>\u001b[0m key, subkey \u001b[39m=\u001b[39m random\u001b[39m.\u001b[39msplit(key)\n\u001b[0;32m----> <a href='vscode-notebook-cell:/home/dw16200/Documents/compass/project/flowjax/examples/bnaf.ipynb#X12sZmlsZQ%3D%3D?line=8'>9</a>\u001b[0m flow, losses \u001b[39m=\u001b[39m train_flow(subkey, flow, x, u, learning_rate\u001b[39m=\u001b[39;49m\u001b[39m1e-2\u001b[39;49m)\n",
                        "File \u001b[0;32m~/Documents/compass/project/flowjax/flowjax/train_utils.py:77\u001b[0m, in \u001b[0;36mtrain_flow\u001b[0;34m(key, dist, x, condition, max_epochs, max_patience, learning_rate, batch_size, val_prop, clip_norm, show_progress, filter_spec)\u001b[0m\n\u001b[1;32m     75\u001b[0m \u001b[39mfor\u001b[39;00m i \u001b[39min\u001b[39;00m batches:\n\u001b[1;32m     76\u001b[0m     batch \u001b[39m=\u001b[39m \u001b[39mtuple\u001b[39m(a[i : i \u001b[39m+\u001b[39m batch_size] \u001b[39mfor\u001b[39;00m a \u001b[39min\u001b[39;00m train_args)\n\u001b[0;32m---> 77\u001b[0m     dist, opt_state, loss_i \u001b[39m=\u001b[39m step(dist, optimizer, opt_state, \u001b[39m*\u001b[39;49mbatch)\n\u001b[1;32m     78\u001b[0m     epoch_train_loss \u001b[39m+\u001b[39m\u001b[39m=\u001b[39m loss_i\u001b[39m.\u001b[39mitem() \u001b[39m/\u001b[39m \u001b[39mlen\u001b[39m(batches)\n\u001b[1;32m     80\u001b[0m epoch_val_loss \u001b[39m=\u001b[39m \u001b[39m0\u001b[39m\n",
                        "File \u001b[0;32m~/miniconda3/envs/jax_env/lib/python3.9/site-packages/equinox/jit.py:94\u001b[0m, in \u001b[0;36m_JitWrapper.__call__\u001b[0;34m(_JitWrapper__self, *args, **kwargs)\u001b[0m\n\u001b[1;32m     93\u001b[0m \u001b[39mdef\u001b[39;00m \u001b[39m__call__\u001b[39m(__self, \u001b[39m*\u001b[39margs, \u001b[39m*\u001b[39m\u001b[39m*\u001b[39mkwargs):\n\u001b[0;32m---> 94\u001b[0m     \u001b[39mreturn\u001b[39;00m __self\u001b[39m.\u001b[39;49m_fun_wrapper(\u001b[39mFalse\u001b[39;49;00m, args, kwargs)\n",
                        "File \u001b[0;32m~/miniconda3/envs/jax_env/lib/python3.9/site-packages/equinox/jit.py:90\u001b[0m, in \u001b[0;36m_JitWrapper._fun_wrapper\u001b[0;34m(self, is_lower, args, kwargs)\u001b[0m\n\u001b[1;32m     88\u001b[0m     \u001b[39mreturn\u001b[39;00m \u001b[39mself\u001b[39m\u001b[39m.\u001b[39m_cached\u001b[39m.\u001b[39mlower(dynamic, static)\n\u001b[1;32m     89\u001b[0m \u001b[39melse\u001b[39;00m:\n\u001b[0;32m---> 90\u001b[0m     dynamic_out, static_out \u001b[39m=\u001b[39m \u001b[39mself\u001b[39;49m\u001b[39m.\u001b[39;49m_cached(dynamic, static)\n\u001b[1;32m     91\u001b[0m     \u001b[39mreturn\u001b[39;00m combine(dynamic_out, static_out\u001b[39m.\u001b[39mvalue)\n",
                        "    \u001b[0;31m[... skipping hidden 14 frame]\u001b[0m\n",
                        "File \u001b[0;32m~/miniconda3/envs/jax_env/lib/python3.9/site-packages/equinox/jit.py:37\u001b[0m, in \u001b[0;36m_filter_jit_cache.<locals>.fun_wrapped\u001b[0;34m(dynamic, static)\u001b[0m\n\u001b[1;32m     33\u001b[0m fun \u001b[39m=\u001b[39m hashable_combine(dynamic_fun, static_fun_leaves, static_fun_treedef)\n\u001b[1;32m     34\u001b[0m args, kwargs \u001b[39m=\u001b[39m hashable_combine(\n\u001b[1;32m     35\u001b[0m     dynamic_spec, static_spec_leaves, static_spec_treedef\n\u001b[1;32m     36\u001b[0m )\n\u001b[0;32m---> 37\u001b[0m out \u001b[39m=\u001b[39m fun(\u001b[39m*\u001b[39;49margs, \u001b[39m*\u001b[39;49m\u001b[39m*\u001b[39;49mkwargs)\n\u001b[1;32m     38\u001b[0m dynamic_out, static_out \u001b[39m=\u001b[39m partition(out, filter_out)\n\u001b[1;32m     39\u001b[0m \u001b[39mreturn\u001b[39;00m dynamic_out, Static(static_out)\n",
                        "File \u001b[0;32m~/Documents/compass/project/flowjax/flowjax/train_utils.py:49\u001b[0m, in \u001b[0;36mtrain_flow.<locals>.step\u001b[0;34m(dist, optimizer, opt_state, x, condition)\u001b[0m\n\u001b[1;32m     47\u001b[0m \u001b[39m@eqx\u001b[39m\u001b[39m.\u001b[39mfilter_jit\n\u001b[1;32m     48\u001b[0m \u001b[39mdef\u001b[39;00m \u001b[39mstep\u001b[39m(dist, optimizer, opt_state, x, condition\u001b[39m=\u001b[39m\u001b[39mNone\u001b[39;00m):\n\u001b[0;32m---> 49\u001b[0m     loss_val, grads \u001b[39m=\u001b[39m eqx\u001b[39m.\u001b[39;49mfilter_value_and_grad(loss, arg\u001b[39m=\u001b[39;49mfilter_spec)(dist, x, condition)\n\u001b[1;32m     50\u001b[0m     updates, opt_state \u001b[39m=\u001b[39m optimizer\u001b[39m.\u001b[39mupdate(grads, opt_state)\n\u001b[1;32m     51\u001b[0m     dist \u001b[39m=\u001b[39m eqx\u001b[39m.\u001b[39mapply_updates(dist, updates)\n",
                        "File \u001b[0;32m~/miniconda3/envs/jax_env/lib/python3.9/site-packages/equinox/grad.py:29\u001b[0m, in \u001b[0;36m_ValueAndGradWrapper.__call__\u001b[0;34m(_ValueAndGradWrapper__self, _ValueAndGradWrapper__x, *args, **kwargs)\u001b[0m\n\u001b[1;32m     26\u001b[0m     \u001b[39mreturn\u001b[39;00m __self\u001b[39m.\u001b[39m_fun(_x, \u001b[39m*\u001b[39m_args, \u001b[39m*\u001b[39m\u001b[39m*\u001b[39m_kwargs)\n\u001b[1;32m     28\u001b[0m diff_x, nondiff_x \u001b[39m=\u001b[39m partition(__x, __self\u001b[39m.\u001b[39m_arg)\n\u001b[0;32m---> 29\u001b[0m \u001b[39mreturn\u001b[39;00m fun_value_and_grad(diff_x, nondiff_x, \u001b[39m*\u001b[39;49margs, \u001b[39m*\u001b[39;49m\u001b[39m*\u001b[39;49mkwargs)\n",
                        "    \u001b[0;31m[... skipping hidden 8 frame]\u001b[0m\n",
                        "File \u001b[0;32m~/miniconda3/envs/jax_env/lib/python3.9/site-packages/equinox/grad.py:26\u001b[0m, in \u001b[0;36m_ValueAndGradWrapper.__call__.<locals>.fun_value_and_grad\u001b[0;34m(_diff_x, _nondiff_x, *_args, **_kwargs)\u001b[0m\n\u001b[1;32m     23\u001b[0m \u001b[39m@ft\u001b[39m\u001b[39m.\u001b[39mpartial(jax\u001b[39m.\u001b[39mvalue_and_grad, argnums\u001b[39m=\u001b[39m\u001b[39m0\u001b[39m, \u001b[39m*\u001b[39m\u001b[39m*\u001b[39m__self\u001b[39m.\u001b[39m_gradkwargs)\n\u001b[1;32m     24\u001b[0m \u001b[39mdef\u001b[39;00m \u001b[39mfun_value_and_grad\u001b[39m(_diff_x, _nondiff_x, \u001b[39m*\u001b[39m_args, \u001b[39m*\u001b[39m\u001b[39m*\u001b[39m_kwargs):\n\u001b[1;32m     25\u001b[0m     _x \u001b[39m=\u001b[39m combine(_diff_x, _nondiff_x)\n\u001b[0;32m---> 26\u001b[0m     \u001b[39mreturn\u001b[39;00m __self\u001b[39m.\u001b[39;49m_fun(_x, \u001b[39m*\u001b[39;49m_args, \u001b[39m*\u001b[39;49m\u001b[39m*\u001b[39;49m_kwargs)\n",
                        "File \u001b[0;32m~/Documents/compass/project/flowjax/flowjax/train_utils.py:45\u001b[0m, in \u001b[0;36mtrain_flow.<locals>.loss\u001b[0;34m(dist, x, condition)\u001b[0m\n\u001b[1;32m     44\u001b[0m \u001b[39mdef\u001b[39;00m \u001b[39mloss\u001b[39m(dist, x, condition\u001b[39m=\u001b[39m\u001b[39mNone\u001b[39;00m):\n\u001b[0;32m---> 45\u001b[0m     \u001b[39mreturn\u001b[39;00m \u001b[39m-\u001b[39mdist\u001b[39m.\u001b[39;49mlog_prob(x, condition)\u001b[39m.\u001b[39mmean()\n",
                        "File \u001b[0;32m~/Documents/compass/project/flowjax/flowjax/distributions.py:87\u001b[0m, in \u001b[0;36mDistribution.log_prob\u001b[0;34m(self, x, condition)\u001b[0m\n\u001b[1;32m     76\u001b[0m \u001b[39mdef\u001b[39;00m \u001b[39mlog_prob\u001b[39m(\u001b[39mself\u001b[39m, x: Array, condition: Optional[Array] \u001b[39m=\u001b[39m \u001b[39mNone\u001b[39;00m):\n\u001b[1;32m     77\u001b[0m     \u001b[39m\"\"\"Evaluate the log probability. If a matrix/matrices are passed,\u001b[39;00m\n\u001b[1;32m     78\u001b[0m \u001b[39m    we vmap (vectorise) over the leading axis.\u001b[39;00m\n\u001b[1;32m     79\u001b[0m \n\u001b[0;32m   (...)\u001b[0m\n\u001b[1;32m     85\u001b[0m \u001b[39m        Array: Jax array of log probabilities.\u001b[39;00m\n\u001b[1;32m     86\u001b[0m \u001b[39m    \"\"\"\u001b[39;00m\n\u001b[0;32m---> 87\u001b[0m     \u001b[39mself\u001b[39;49m\u001b[39m.\u001b[39;49m_argcheck_x(x)\n\u001b[1;32m     88\u001b[0m     \u001b[39mself\u001b[39m\u001b[39m.\u001b[39m_argcheck_condition(condition)\n\u001b[1;32m     90\u001b[0m     \u001b[39mif\u001b[39;00m condition \u001b[39mis\u001b[39;00m \u001b[39mNone\u001b[39;00m:\n",
                        "File \u001b[0;32m~/Documents/compass/project/flowjax/flowjax/distributions.py:107\u001b[0m, in \u001b[0;36mDistribution._argcheck_x\u001b[0;34m(self, x)\u001b[0m\n\u001b[1;32m    104\u001b[0m     \u001b[39mraise\u001b[39;00m \u001b[39mValueError\u001b[39;00m(\u001b[39m\"\u001b[39m\u001b[39mx.ndim should be 1 or 2\u001b[39m\u001b[39m\"\u001b[39m)\n\u001b[1;32m    106\u001b[0m \u001b[39mif\u001b[39;00m x\u001b[39m.\u001b[39mshape[\u001b[39m-\u001b[39m\u001b[39m1\u001b[39m] \u001b[39m!=\u001b[39m \u001b[39mself\u001b[39m\u001b[39m.\u001b[39mdim:\n\u001b[0;32m--> 107\u001b[0m     \u001b[39mraise\u001b[39;00m \u001b[39mValueError\u001b[39;00m(\u001b[39mf\u001b[39m\u001b[39m\"\u001b[39m\u001b[39mExpected x.shape[-1]==\u001b[39m\u001b[39m{\u001b[39;00m\u001b[39mself\u001b[39m\u001b[39m.\u001b[39mdim\u001b[39m}\u001b[39;00m\u001b[39m, got \u001b[39m\u001b[39m{\u001b[39;00mx\u001b[39m.\u001b[39mshape\u001b[39m}\u001b[39;00m\u001b[39m.\u001b[39m\u001b[39m\"\u001b[39m)\n",
                        "\u001b[0;31mValueError\u001b[0m: Expected x.shape[-1]==3, got (256, 2)."
                    ]
                }
            ],
            "source": [
                "key, subkey = random.split(key)\n",
                "\n",
                "flow = block_neural_autoregressive_flow(\n",
                "    key=subkey,\n",
                "    base_dist=Normal(jnp.zeros(x.shape[1]), jnp.ones(x.shape[1])),\n",
                "    cond_dim=u.shape[1])\n",
                "\n",
                "key, subkey = random.split(key)\n",
                "flow, losses = train_flow(subkey, flow, x, u, learning_rate=1e-2)"
            ]
        },
        {
            "cell_type": "markdown",
            "metadata": {},
            "source": [
                "### Visualize learned conditional density\n",
                "Let's condition on $u=[1,3]'$, in which case we expect $x_1 \\sim \\text{Uniform}(0, 1)$ and $x_2 \\sim \\text{Uniform}(0, 3)$"
            ]
        },
        {
            "cell_type": "code",
            "execution_count": null,
            "metadata": {},
            "outputs": [
                {
                    "data": {
                        "image/png": "[encoded data removed]",
                        "text/plain": [
                            "<Figure size 432x288 with 1 Axes>"
                        ]
                    },
                    "metadata": {
                        "needs_background": "light"
                    },
                    "output_type": "display_data"
                }
            ],
            "source": [
                "resolution = 200\n",
                "u = jnp.array([1, 3])\n",
                "xline = jnp.linspace(-1, 2, resolution)\n",
                "yline = jnp.linspace(-1, 4, resolution)\n",
                "xgrid, ygrid = jnp.meshgrid(xline, yline)\n",
                "xyinput = jnp.column_stack((xgrid.reshape(-1, 1), ygrid.reshape(-1, 1)))\n",
                "zgrid = jnp.exp(flow.log_prob(xyinput, u).reshape(resolution, resolution))\n",
                "\n",
                "grids = [onp.array(g) for g in [xgrid, ygrid, zgrid]]\n",
                "plt.contourf(*grids, levels=40)\n",
                "plt.show()"
            ]
        },
        {
            "cell_type": "code",
            "execution_count": null,
            "metadata": {},
            "outputs": [],
            "source": []
        }
    ],
    "metadata": {
        "interpreter": {
            "hash": "647a70eaa12e7ed994e8770cbeee172711b36a9a2f05080727e0cc1c3c5df3df"
        },
        "kernelspec": {
            "display_name": "Python 3.9.7 ('jax_env')",
            "language": "python",
            "name": "python3"
        },
        "language_info": {
            "codemirror_mode": {
                "name": "ipython",
                "version": 3
            },
            "file_extension": ".py",
            "mimetype": "text/x-python",
            "name": "python",
            "nbconvert_exporter": "python",
            "pygments_lexer": "ipython3",
            "version": "3.9.12"
        },
        "orig_nbformat": 4
    },
    "nbformat": 4,
    "nbformat_minor": 2
}
