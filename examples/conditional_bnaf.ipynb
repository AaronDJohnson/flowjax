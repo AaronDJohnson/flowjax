{
    "cells": [
        {
            "cell_type": "markdown",
            "metadata": {},
            "source": [
                "### Conditional density estimation with a block neural autoregressive flow\n",
                "\n",
                "The model is as follows:\n",
                "$$u_1 \\sim \\text{Uniform}(0,5)$$\n",
                "$$u_2 \\sim \\text{Uniform}(0,5)$$\n",
                "\n",
                "$$x_i \\sim \\text{Uniform}(0, u_i) \\quad \\text{for}\\ i\\ \\text{in}\\ \\{1,2\\}$$\n",
                "\n",
                "We will try to infer the conditional distribution $p(x|u)$ using a conditional normalizing flow.\n"
            ]
        },
        {
            "cell_type": "code",
            "execution_count": 1,
            "metadata": {},
            "outputs": [],
            "source": [
                "from jax import random\n",
                "import jax.numpy as jnp\n",
                "from flowjax.flows import BlockNeuralAutoregressiveFlow\n",
                "from flowjax.distributions import Normal\n",
                "from flowjax.train_utils import train_flow\n",
                "import matplotlib.pyplot as plt"
            ]
        },
        {
            "cell_type": "code",
            "execution_count": 2,
            "metadata": {},
            "outputs": [
                {
                    "name": "stderr",
                    "output_type": "stream",
                    "text": [
                        "WARNING:absl:No GPU/TPU found, falling back to CPU. (Set TF_CPP_MIN_LOG_LEVEL=0 and rerun for more info.)\n"
                    ]
                }
            ],
            "source": [
                "key, x_key, cond_key = random.split(random.PRNGKey(0), 3)\n",
                "u = random.uniform(cond_key, (10000, 2), minval=0, maxval=5)\n",
                "x = random.uniform(x_key, shape=u.shape, maxval=u)\n",
                "assert jnp.all(x<u)"
            ]
        },
        {
            "cell_type": "code",
            "execution_count": 3,
            "metadata": {},
            "outputs": [
                {
                    "name": "stderr",
                    "output_type": "stream",
                    "text": [
                        " 70%|███████   | 35/50 [00:42<00:18,  1.21s/it, train=1.28, val=1.3] "
                    ]
                },
                {
                    "name": "stdout",
                    "output_type": "stream",
                    "text": [
                        "Max patience reached.\n"
                    ]
                },
                {
                    "name": "stderr",
                    "output_type": "stream",
                    "text": [
                        "\n"
                    ]
                }
            ],
            "source": [
                "key, subkey = random.split(key)\n",
                "\n",
                "flow = BlockNeuralAutoregressiveFlow(\n",
                "    key=subkey,\n",
                "    base_dist=Normal(x.shape[1]),\n",
                "    cond_dim=u.shape[1])\n",
                "\n",
                "key, subkey = random.split(key)\n",
                "flow, losses = train_flow(subkey, flow, x, u, learning_rate=1e-2)"
            ]
        },
        {
            "cell_type": "markdown",
            "metadata": {},
            "source": [
                "### Visualize learned conditional density\n",
                "Let's condition on $u=[1,3]'$, in which case we expect $x_1 \\sim \\text{Uniform}(0, 1)$ and $x_2 \\sim \\text{Uniform}(0, 3)$"
            ]
        },
        {
            "cell_type": "code",
            "execution_count": 5,
            "metadata": {},
            "outputs": [
                {
                    "data": {
                        "image/png": "[encoded data removed]",
                        "text/plain": [
                            "<Figure size 432x288 with 1 Axes>"
                        ]
                    },
                    "metadata": {
                        "needs_background": "light"
                    },
                    "output_type": "display_data"
                }
            ],
            "source": [
                "resolution = 200\n",
                "u = jnp.array([1, 3])\n",
                "xline = jnp.linspace(-1, 2, resolution)\n",
                "yline = jnp.linspace(-1, 4, resolution)\n",
                "xgrid, ygrid = jnp.meshgrid(xline, yline)\n",
                "xyinput = jnp.column_stack((xgrid.reshape(-1, 1), ygrid.reshape(-1, 1)))\n",
                "zgrid = jnp.exp(flow.log_prob(xyinput, u).reshape(resolution, resolution))\n",
                "\n",
                "import numpy as onp\n",
                "grids = [onp.array(g) for g in [xgrid, ygrid, zgrid]]\n",
                "plt.contourf(*grids, levels=40)\n",
                "plt.show()"
            ]
        },
        {
            "cell_type": "code",
            "execution_count": null,
            "metadata": {},
            "outputs": [],
            "source": []
        }
    ],
    "metadata": {
        "interpreter": {
            "hash": "647a70eaa12e7ed994e8770cbeee172711b36a9a2f05080727e0cc1c3c5df3df"
        },
        "kernelspec": {
            "display_name": "Python 3.9.7 ('jax_env')",
            "language": "python",
            "name": "python3"
        },
        "language_info": {
            "codemirror_mode": {
                "name": "ipython",
                "version": 3
            },
            "file_extension": ".py",
            "mimetype": "text/x-python",
            "name": "python",
            "nbconvert_exporter": "python",
            "pygments_lexer": "ipython3",
            "version": "3.9.12"
        },
        "orig_nbformat": 4
    },
    "nbformat": 4,
    "nbformat_minor": 2
}
