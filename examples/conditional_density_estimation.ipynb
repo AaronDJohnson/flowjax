{
 "cells": [
  {
   "cell_type": "markdown",
   "metadata": {},
   "source": [
    "## Introduction\n",
    "We can try to infer the the distribution of samples from a normal distribution, given the mean. This is conditional density estimation."
   ]
  },
  {
   "cell_type": "code",
   "execution_count": 1,
   "metadata": {},
   "outputs": [],
   "source": [
    "from jax import random\n",
    "import jax.numpy as jnp\n",
    "from jaxflows.bijections.coupling import CouplingStack\n",
    "from jaxflows.bijections.rational_quadratic_spline import RationalQuadraticSpline\n",
    "from jaxflows.flow import Flow\n",
    "from jaxflows.train_utils import train_flow\n",
    "from jax.config import config\n",
    "config.update(\"jax_debug_nans\", True)"
   ]
  },
  {
   "cell_type": "code",
   "execution_count": 2,
   "metadata": {},
   "outputs": [
    {
     "name": "stderr",
     "output_type": "stream",
     "text": [
      "WARNING:absl:No GPU/TPU found, falling back to CPU. (Set TF_CPP_MIN_LOG_LEVEL=0 and rerun for more info.)\n"
     ]
    }
   ],
   "source": [
    "key, x_key, cond_key = random.split(random.PRNGKey(0), 3)\n",
    "cond = random.uniform(cond_key, (10000, 1), minval=-1, maxval=1)\n",
    "x = random.normal(x_key, (10000, 2))*0.5 + cond"
   ]
  },
  {
   "cell_type": "code",
   "execution_count": 3,
   "metadata": {},
   "outputs": [],
   "source": [
    "from jaxflows.bijections.affine import Affine"
   ]
  },
  {
   "cell_type": "code",
   "execution_count": 4,
   "metadata": {},
   "outputs": [],
   "source": [
    "key = random.PRNGKey(1)\n",
    "bijection = CouplingStack(\n",
    "    key=key,\n",
    "    bijection=RationalQuadraticSpline(K=8, B=4),\n",
    "    D=x.shape[1],\n",
    "    num_layers=8,\n",
    "    condition_dim=cond.shape[1])\n",
    "\n",
    "flow = Flow(bijection, target_dim = x.shape[1])\n",
    "key, subkey = random.split(key)\n"
   ]
  },
  {
   "cell_type": "code",
   "execution_count": 5,
   "metadata": {},
   "outputs": [
    {
     "name": "stderr",
     "output_type": "stream",
     "text": [
      "100%|██████████| 50/50 [02:12<00:00,  2.65s/it, train=1.44, val=1.46]\n"
     ]
    }
   ],
   "source": [
    "flow, losses = train_flow(flow, key, x, condition=cond, max_epochs=50)"
   ]
  },
  {
   "cell_type": "markdown",
   "metadata": {},
   "source": [
    "## Sampling\n",
    "We can now sample, for example conditioning on a mean value of 0.5."
   ]
  },
  {
   "cell_type": "code",
   "execution_count": 9,
   "metadata": {},
   "outputs": [],
   "source": [
    "n = 1000\n",
    "cond_for_sample = jnp.full((n, 1), 0.5)\n",
    "sample = flow.sample(random.PRNGKey(0), n, condition=cond_for_sample)"
   ]
  },
  {
   "cell_type": "code",
   "execution_count": 10,
   "metadata": {},
   "outputs": [
    {
     "data": {
      "text/plain": [
       "<matplotlib.collections.PathCollection at 0x7ff6504afa60>"
      ]
     },
     "execution_count": 10,
     "metadata": {},
     "output_type": "execute_result"
    },
    {
     "data": {
      "image/png": "[encoded data removed]",
      "text/plain": [
       "<Figure size 432x288 with 1 Axes>"
      ]
     },
     "metadata": {
      "needs_background": "light"
     },
     "output_type": "display_data"
    }
   ],
   "source": [
    "import matplotlib.pyplot as plt\n",
    "sample = flow.sample(random.PRNGKey(0), n, condition=cond_for_sample)\n",
    "plt.scatter(x = sample[:, 0], y = sample[:, 1])"
   ]
  },
  {
   "cell_type": "code",
   "execution_count": null,
   "metadata": {},
   "outputs": [],
   "source": []
  }
 ],
 "metadata": {
  "interpreter": {
   "hash": "647a70eaa12e7ed994e8770cbeee172711b36a9a2f05080727e0cc1c3c5df3df"
  },
  "kernelspec": {
   "display_name": "Python 3.9.7 ('jax_env')",
   "language": "python",
   "name": "python3"
  },
  "language_info": {
   "codemirror_mode": {
    "name": "ipython",
    "version": 3
   },
   "file_extension": ".py",
   "mimetype": "text/x-python",
   "name": "python",
   "nbconvert_exporter": "python",
   "pygments_lexer": "ipython3",
   "version": "3.9.7"
  },
  "orig_nbformat": 4
 },
 "nbformat": 4,
 "nbformat_minor": 2
}
