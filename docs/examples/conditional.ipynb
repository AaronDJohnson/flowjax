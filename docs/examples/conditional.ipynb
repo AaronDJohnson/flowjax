{
 "cells": [
  {
   "attachments": {},
   "cell_type": "markdown",
   "metadata": {},
   "source": [
    "### Conditional density estimation\n",
    "\n",
    "This example shows how we can perform conditional density estimation with normalising flows.\n",
    "Here we use a [BlockNeuralAutoregressiveFlow](../api/flows.rst#flowjax.flows.BlockNeuralAutoregressiveFlow),\n",
    "although other flows are available (see [flowjax.flows](../api/flows.rst)). We consider a two dimensional model, where the upper limit of the target uniform distribution depends on another uniform random variable:\n",
    "$$u_i \\sim \\text{Uniform}(0,5) \\quad \\text{for}\\ i\\ \\text{in}\\ 1,2$$\n",
    "$$x_i \\sim \\text{Uniform}(0, u_i), \\quad \\text{for}\\ i\\ \\text{in}\\ 1,2$$\n",
    "\n",
    "We will try to infer the conditional distribution $p(x|u)$ using samples from the model.\n"
   ]
  },
  {
   "attachments": {},
   "cell_type": "markdown",
   "metadata": {},
   "source": [
    "Importing the required libraries."
   ]
  },
  {
   "cell_type": "code",
   "execution_count": 41,
   "metadata": {},
   "outputs": [],
   "source": [
    "import jax.random as jr\n",
    "import jax.numpy as jnp\n",
    "import numpy as onp\n",
    "from flowjax.flows import BlockNeuralAutoregressiveFlow\n",
    "from flowjax.distributions import Normal\n",
    "from flowjax.train_utils import train_flow\n",
    "import matplotlib.pyplot as plt"
   ]
  },
  {
   "attachments": {},
   "cell_type": "markdown",
   "metadata": {},
   "source": [
    "Generating the toy data."
   ]
  },
  {
   "cell_type": "code",
   "execution_count": 42,
   "metadata": {},
   "outputs": [],
   "source": [
    "key, x_key, cond_key = jr.split(jr.PRNGKey(3), 3)\n",
    "u = jr.uniform(cond_key, (10000, 2), minval=0, maxval=5)\n",
    "x = jr.uniform(x_key, shape=u.shape, maxval=u)"
   ]
  },
  {
   "attachments": {},
   "cell_type": "markdown",
   "metadata": {},
   "source": [
    "Creating and training the flow."
   ]
  },
  {
   "cell_type": "code",
   "execution_count": 43,
   "metadata": {},
   "outputs": [
    {
     "name": "stderr",
     "output_type": "stream",
     "text": [
      " 68%|██████▊   | 34/50 [00:07<00:03,  4.30it/s, train=0.857, val=1.44 (Max patience reached)]\n"
     ]
    }
   ],
   "source": [
    "key, subkey = jr.split(jr.PRNGKey(0))\n",
    "\n",
    "flow = BlockNeuralAutoregressiveFlow(\n",
    "    key=subkey,\n",
    "    base_dist=Normal(jnp.zeros(x.shape[1])),\n",
    "    cond_dim=u.shape[1],\n",
    ")\n",
    "\n",
    "key, subkey = jr.split(key)\n",
    "flow, losses = train_flow(subkey, flow, x, u, learning_rate=5e-3, max_patience=10)"
   ]
  },
  {
   "attachments": {},
   "cell_type": "markdown",
   "metadata": {},
   "source": [
    "We can now visualise the learned density. Let's condition on $u=[1,3]'$, in which case we expect $x_1 \\sim \\text{Uniform}(0, 1)$ and $x_2 \\sim \\text{Uniform}(0, 3)$"
   ]
  },
  {
   "cell_type": "code",
   "execution_count": 44,
   "metadata": {},
   "outputs": [
    {
     "data": {
      "image/png": "[encoded data removed]",
      "text/plain": [
       "<Figure size 640x480 with 1 Axes>"
      ]
     },
     "metadata": {},
     "output_type": "display_data"
    }
   ],
   "source": [
    "resolution = 200\n",
    "test_u = jnp.array([1.0, 3])\n",
    "\n",
    "xgrid, ygrid = jnp.meshgrid(\n",
    "    jnp.linspace(-1, 4, resolution),\n",
    "    jnp.linspace(-1, 4, resolution)\n",
    "    )\n",
    "xyinput = jnp.column_stack((xgrid.reshape(-1, 1), ygrid.reshape(-1, 1)))\n",
    "zgrid = jnp.exp(flow.log_prob(xyinput, test_u).reshape(resolution, resolution))\n",
    "plt.contourf(xgrid, ygrid, zgrid, levels=50)\n",
    "plt.show()"
   ]
  },
  {
   "cell_type": "code",
   "execution_count": null,
   "metadata": {},
   "outputs": [],
   "source": []
  }
 ],
 "metadata": {
  "interpreter": {
   "hash": "647a70eaa12e7ed994e8770cbeee172711b36a9a2f05080727e0cc1c3c5df3df"
  },
  "kernelspec": {
   "display_name": "Python 3.9.7 ('jax_env')",
   "language": "python",
   "name": "python3"
  },
  "language_info": {
   "codemirror_mode": {
    "name": "ipython",
    "version": 3
   },
   "file_extension": ".py",
   "mimetype": "text/x-python",
   "name": "python",
   "nbconvert_exporter": "python",
   "pygments_lexer": "ipython3",
   "version": "3.10.8"
  },
  "orig_nbformat": 4
 },
 "nbformat": 4,
 "nbformat_minor": 2
}
